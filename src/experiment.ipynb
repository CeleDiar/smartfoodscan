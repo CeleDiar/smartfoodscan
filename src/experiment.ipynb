{
 "cells": [
  {
   "cell_type": "code",
   "execution_count": 1,
   "metadata": {},
   "outputs": [],
   "source": [
    "%load_ext autoreload\n",
    "%autoreload 2"
   ]
  },
  {
   "cell_type": "code",
   "execution_count": 10,
   "metadata": {},
   "outputs": [],
   "source": [
    "from preprocessing import clean_text_vectorized\n",
    "import pandas as pd"
   ]
  },
  {
   "cell_type": "code",
   "execution_count": 12,
   "metadata": {},
   "outputs": [
    {
     "data": {
      "text/html": [
       "<div>\n",
       "<style scoped>\n",
       "    .dataframe tbody tr th:only-of-type {\n",
       "        vertical-align: middle;\n",
       "    }\n",
       "\n",
       "    .dataframe tbody tr th {\n",
       "        vertical-align: top;\n",
       "    }\n",
       "\n",
       "    .dataframe thead th {\n",
       "        text-align: right;\n",
       "    }\n",
       "</style>\n",
       "<table border=\"1\" class=\"dataframe\">\n",
       "  <thead>\n",
       "    <tr style=\"text-align: right;\">\n",
       "      <th></th>\n",
       "      <th>text</th>\n",
       "      <th>sugars_100g</th>\n",
       "    </tr>\n",
       "  </thead>\n",
       "  <tbody>\n",
       "    <tr>\n",
       "      <th>133126</th>\n",
       "      <td>Cod (cod, water, sodium tripolyphosphate [to retain moisture]), whole green beans, carrots, yellow carrots, pesto blend (margarine [vegetable and olive oil blend {palm oil, soy oil and olive oil}], water, salt, contains less than 2% of nonfat dry milk, mono - and diglycerides, soy lecithin, sodium benzoate as a preservative, natural and artificial flavor, vitamin a palmitate, beta-carotene [color], salt, dehydrated garlic, spice, dehydrated cheddar cheese [cultured pasteurized milk, salt, enzymes], natural flavor, salt, coconut oil, whey, silicon dioxide [anticaking], autolyzed yeast extract), red bell pepper. E322 - Lecithins, E322i - Lecithin, E452 - Polyphosphates, E452vi - Sodium tripolyphosphate, E471 - Mono- and diglycerides of fatty acids</td>\n",
       "      <td>1.56</td>\n",
       "    </tr>\n",
       "    <tr>\n",
       "      <th>64582</th>\n",
       "      <td>Milk chocolate (sugar, cocoa butter, chocolate liquor, milk, soy lecithin, salt, and vanilla), raspberry filling (sugar, corn syrup, raspberry puree, water, high fructose corn syrup, contains 2% or less of the following: dextrose, citric acid, sodium carboxymethyl cellulose, artificial flavor, pectin, sodium citrate, sodium benzoate, red 40)., peanut butter filling (peanuts, sugar and/or dextrose, hydrogenated vegetable oils, salt &amp; molasses), white coating (sugar, partially hydrogenated palm kernel and cottonseed oils, nonfat dry milk, milk, glyceryl lacto esters of fatty acids, soy lecithin [emulsifier] salt and artificial flavoring added). E129 - Allura red, E211 - Sodium benzoate, E322 - Lecithins, E322i - Lecithin, E330 - Citric acid, E331 - Sodium citrates, E440 - Pectins, E466 - Sodium carboxy methyl cellulose, E570 - Fatty acids</td>\n",
       "      <td>51.61</td>\n",
       "    </tr>\n",
       "    <tr>\n",
       "      <th>201417</th>\n",
       "      <td>Soybean oil, water, distilled vinegar, minced garlic (garlic, water and phosphoric acid), dried parsley, salt, sugar, black pepper, oregano, citric acid, dried chives, red pepper, sodium benzoate (added as preservative) potassium sorbate (added as preservative), xanthan gum, sodium erythorbate (added to protect color) calcium disodium edta (added to protect flavor). E202 - Potassium sorbate, E211 - Sodium benzoate, E316 - Sodium erythorbate, E330 - Citric acid, E338 - Phosphoric acid, E385 - Calcium disodium ethylenediaminetetraacetate, E415 - Xanthan gum</td>\n",
       "      <td>0.00</td>\n",
       "    </tr>\n",
       "    <tr>\n",
       "      <th>113150</th>\n",
       "      <td>Olives, water, bleu cheese (pasteurized cultured milk, water, whey, salt, sodium phosphate, sorbic acid, natural flavor, sodium alginate, enzymes, xanthan/guar gum), sea salt, calcium chloride, lactic acid, sodium bisulfite (added as a color stabilizer). E200 - Sorbic acid, E222 - Sodium bisulphite, E270 - Lactic acid, E401 - Sodium alginate, E412 - Guar gum</td>\n",
       "      <td>0.00</td>\n",
       "    </tr>\n",
       "    <tr>\n",
       "      <th>75357</th>\n",
       "      <td>Cherries, water, sugar, food starch-modified (corn), natural flavors, ascorbic acid (vitamin c) to maintain color, and citric acid. red 40 color. E330 - Citric acid</td>\n",
       "      <td>21.18</td>\n",
       "    </tr>\n",
       "  </tbody>\n",
       "</table>\n",
       "</div>"
      ],
      "text/plain": [
       "                                                                                                                                                                                                                                                                                                                                                                                                                                                                                                                                                                                                                                                                                                                                                                                                                                                                                    text  \\\n",
       "133126                                                                                               Cod (cod, water, sodium tripolyphosphate [to retain moisture]), whole green beans, carrots, yellow carrots, pesto blend (margarine [vegetable and olive oil blend {palm oil, soy oil and olive oil}], water, salt, contains less than 2% of nonfat dry milk, mono - and diglycerides, soy lecithin, sodium benzoate as a preservative, natural and artificial flavor, vitamin a palmitate, beta-carotene [color], salt, dehydrated garlic, spice, dehydrated cheddar cheese [cultured pasteurized milk, salt, enzymes], natural flavor, salt, coconut oil, whey, silicon dioxide [anticaking], autolyzed yeast extract), red bell pepper. E322 - Lecithins, E322i - Lecithin, E452 - Polyphosphates, E452vi - Sodium tripolyphosphate, E471 - Mono- and diglycerides of fatty acids   \n",
       "64582   Milk chocolate (sugar, cocoa butter, chocolate liquor, milk, soy lecithin, salt, and vanilla), raspberry filling (sugar, corn syrup, raspberry puree, water, high fructose corn syrup, contains 2% or less of the following: dextrose, citric acid, sodium carboxymethyl cellulose, artificial flavor, pectin, sodium citrate, sodium benzoate, red 40)., peanut butter filling (peanuts, sugar and/or dextrose, hydrogenated vegetable oils, salt & molasses), white coating (sugar, partially hydrogenated palm kernel and cottonseed oils, nonfat dry milk, milk, glyceryl lacto esters of fatty acids, soy lecithin [emulsifier] salt and artificial flavoring added). E129 - Allura red, E211 - Sodium benzoate, E322 - Lecithins, E322i - Lecithin, E330 - Citric acid, E331 - Sodium citrates, E440 - Pectins, E466 - Sodium carboxy methyl cellulose, E570 - Fatty acids   \n",
       "201417                                                                                                                                                                                                                                                                                                 Soybean oil, water, distilled vinegar, minced garlic (garlic, water and phosphoric acid), dried parsley, salt, sugar, black pepper, oregano, citric acid, dried chives, red pepper, sodium benzoate (added as preservative) potassium sorbate (added as preservative), xanthan gum, sodium erythorbate (added to protect color) calcium disodium edta (added to protect flavor). E202 - Potassium sorbate, E211 - Sodium benzoate, E316 - Sodium erythorbate, E330 - Citric acid, E338 - Phosphoric acid, E385 - Calcium disodium ethylenediaminetetraacetate, E415 - Xanthan gum   \n",
       "113150                                                                                                                                                                                                                                                                                                                                                                                                                                                                                                          Olives, water, bleu cheese (pasteurized cultured milk, water, whey, salt, sodium phosphate, sorbic acid, natural flavor, sodium alginate, enzymes, xanthan/guar gum), sea salt, calcium chloride, lactic acid, sodium bisulfite (added as a color stabilizer). E200 - Sorbic acid, E222 - Sodium bisulphite, E270 - Lactic acid, E401 - Sodium alginate, E412 - Guar gum   \n",
       "75357                                                                                                                                                                                                                                                                                                                                                                                                                                                                                                                                                                                                                                                                                                               Cherries, water, sugar, food starch-modified (corn), natural flavors, ascorbic acid (vitamin c) to maintain color, and citric acid. red 40 color. E330 - Citric acid   \n",
       "\n",
       "        sugars_100g  \n",
       "133126         1.56  \n",
       "64582         51.61  \n",
       "201417         0.00  \n",
       "113150         0.00  \n",
       "75357         21.18  "
      ]
     },
     "execution_count": 12,
     "metadata": {},
     "output_type": "execute_result"
    }
   ],
   "source": [
    "df = pd.read_parquet('../shared_data/X_train.parquet')[['text', 'sugars_100g']]\n",
    "pd.options.display.max_colwidth = None\n",
    "df.head()"
   ]
  },
  {
   "cell_type": "code",
   "execution_count": 13,
   "metadata": {},
   "outputs": [
    {
     "data": {
      "text/html": [
       "<div>\n",
       "<style scoped>\n",
       "    .dataframe tbody tr th:only-of-type {\n",
       "        vertical-align: middle;\n",
       "    }\n",
       "\n",
       "    .dataframe tbody tr th {\n",
       "        vertical-align: top;\n",
       "    }\n",
       "\n",
       "    .dataframe thead th {\n",
       "        text-align: right;\n",
       "    }\n",
       "</style>\n",
       "<table border=\"1\" class=\"dataframe\">\n",
       "  <thead>\n",
       "    <tr style=\"text-align: right;\">\n",
       "      <th></th>\n",
       "      <th>text</th>\n",
       "      <th>sugars_100g</th>\n",
       "    </tr>\n",
       "  </thead>\n",
       "  <tbody>\n",
       "    <tr>\n",
       "      <th>133126</th>\n",
       "      <td>cod , whole green beans, carrots, yellow carrots, pesto blend , red bell pepper, e322 - lecithins, e322i - lecithin, e452 - polyphosphates, e452vi - sodium tripolyphosphate, e471 - mono- and diglycerides of fatty acids</td>\n",
       "      <td>1.56</td>\n",
       "    </tr>\n",
       "    <tr>\n",
       "      <th>64582</th>\n",
       "      <td>milk chocolate , raspberry filling ,, peanut butter filling , white coating , e129 - allura red, e211 - sodium benzoate, e322 - lecithins, e322i - lecithin, e330 - citric acid, e331 - sodium citrates, e440 - pectins, e466 - sodium carboxy methyl cellulose, e570 - fatty acids</td>\n",
       "      <td>51.61</td>\n",
       "    </tr>\n",
       "    <tr>\n",
       "      <th>201417</th>\n",
       "      <td>soybean oil, water, distilled vinegar, minced garlic , dried parsley, salt, sugar, black pepper, oregano, citric acid, dried chives, red pepper, sodium benzoate  potassium sorbate , xanthan gum, sodium erythorbate  calcium disodium edta , e202 - potassium sorbate, e211 - sodium benzoate, e316 - sodium erythorbate, e330 - citric acid, e338 - phosphoric acid, e385 - calcium disodium ethylenediaminetetraacetate, e415 - xanthan gum</td>\n",
       "      <td>0.00</td>\n",
       "    </tr>\n",
       "    <tr>\n",
       "      <th>113150</th>\n",
       "      <td>olives, water, bleu cheese , sea salt, calcium chloride, lactic acid, sodium bisulfite , e200 - sorbic acid, e222 - sodium bisulphite, e270 - lactic acid, e401 - sodium alginate, e412 - guar gum</td>\n",
       "      <td>0.00</td>\n",
       "    </tr>\n",
       "    <tr>\n",
       "      <th>75357</th>\n",
       "      <td>cherries, water, sugar, food starch-modified , natural flavors, ascorbic acid  to maintain color,  citric acid, red 40 color, e330 - citric acid</td>\n",
       "      <td>21.18</td>\n",
       "    </tr>\n",
       "  </tbody>\n",
       "</table>\n",
       "</div>"
      ],
      "text/plain": [
       "                                                                                                                                                                                                                                                                                                                                                                                                                                                   text  \\\n",
       "133126                                                                                                                                                                                                                       cod , whole green beans, carrots, yellow carrots, pesto blend , red bell pepper, e322 - lecithins, e322i - lecithin, e452 - polyphosphates, e452vi - sodium tripolyphosphate, e471 - mono- and diglycerides of fatty acids   \n",
       "64582                                                                                                                                                               milk chocolate , raspberry filling ,, peanut butter filling , white coating , e129 - allura red, e211 - sodium benzoate, e322 - lecithins, e322i - lecithin, e330 - citric acid, e331 - sodium citrates, e440 - pectins, e466 - sodium carboxy methyl cellulose, e570 - fatty acids   \n",
       "201417  soybean oil, water, distilled vinegar, minced garlic , dried parsley, salt, sugar, black pepper, oregano, citric acid, dried chives, red pepper, sodium benzoate  potassium sorbate , xanthan gum, sodium erythorbate  calcium disodium edta , e202 - potassium sorbate, e211 - sodium benzoate, e316 - sodium erythorbate, e330 - citric acid, e338 - phosphoric acid, e385 - calcium disodium ethylenediaminetetraacetate, e415 - xanthan gum   \n",
       "113150                                                                                                                                                                                                                                               olives, water, bleu cheese , sea salt, calcium chloride, lactic acid, sodium bisulfite , e200 - sorbic acid, e222 - sodium bisulphite, e270 - lactic acid, e401 - sodium alginate, e412 - guar gum   \n",
       "75357                                                                                                                                                                                                                                                                                                  cherries, water, sugar, food starch-modified , natural flavors, ascorbic acid  to maintain color,  citric acid, red 40 color, e330 - citric acid   \n",
       "\n",
       "        sugars_100g  \n",
       "133126         1.56  \n",
       "64582         51.61  \n",
       "201417         0.00  \n",
       "113150         0.00  \n",
       "75357         21.18  "
      ]
     },
     "execution_count": 13,
     "metadata": {},
     "output_type": "execute_result"
    }
   ],
   "source": [
    "cleaned = clean_text_vectorized(df, 'text')\n",
    "cleaned.head()"
   ]
  },
  {
   "cell_type": "code",
   "execution_count": null,
   "metadata": {},
   "outputs": [
    {
     "data": {
      "application/vnd.jupyter.widget-view+json": {
       "model_id": "99781987a8ca40168258099621ae175d",
       "version_major": 2,
       "version_minor": 0
      },
      "text/plain": [
       "tokenizer_config.json:   0%|          | 0.00/48.0 [00:00<?, ?B/s]"
      ]
     },
     "metadata": {},
     "output_type": "display_data"
    },
    {
     "data": {
      "application/vnd.jupyter.widget-view+json": {
       "model_id": "e43a01d1aa814434bcca4a4d134975eb",
       "version_major": 2,
       "version_minor": 0
      },
      "text/plain": [
       "vocab.txt:   0%|          | 0.00/232k [00:00<?, ?B/s]"
      ]
     },
     "metadata": {},
     "output_type": "display_data"
    },
    {
     "data": {
      "application/vnd.jupyter.widget-view+json": {
       "model_id": "057b963daff84ec2897a764c52dc8cea",
       "version_major": 2,
       "version_minor": 0
      },
      "text/plain": [
       "tokenizer.json:   0%|          | 0.00/466k [00:00<?, ?B/s]"
      ]
     },
     "metadata": {},
     "output_type": "display_data"
    },
    {
     "data": {
      "application/vnd.jupyter.widget-view+json": {
       "model_id": "e54a5bc55a944595b2b49e480f046eae",
       "version_major": 2,
       "version_minor": 0
      },
      "text/plain": [
       "config.json:   0%|          | 0.00/570 [00:00<?, ?B/s]"
      ]
     },
     "metadata": {},
     "output_type": "display_data"
    },
    {
     "data": {
      "application/vnd.jupyter.widget-view+json": {
       "model_id": "441119c8b78044c292a2c86323761d76",
       "version_major": 2,
       "version_minor": 0
      },
      "text/plain": [
       "model.safetensors:   0%|          | 0.00/440M [00:00<?, ?B/s]"
      ]
     },
     "metadata": {},
     "output_type": "display_data"
    }
   ],
   "source": [
    "from preprocessing import vectorize_text\n",
    "\n",
    "new_df = vectorize_text(cleaned, column_name='text', method='bert', max_features=20_000)\n",
    "\n",
    "new_df"
   ]
  },
  {
   "cell_type": "code",
   "execution_count": null,
   "metadata": {},
   "outputs": [],
   "source": []
  }
 ],
 "metadata": {
  "kernelspec": {
   "display_name": "smartfoodscan",
   "language": "python",
   "name": "python3"
  },
  "language_info": {
   "codemirror_mode": {
    "name": "ipython",
    "version": 3
   },
   "file_extension": ".py",
   "mimetype": "text/x-python",
   "name": "python",
   "nbconvert_exporter": "python",
   "pygments_lexer": "ipython3",
   "version": "3.10.6"
  }
 },
 "nbformat": 4,
 "nbformat_minor": 2
}
