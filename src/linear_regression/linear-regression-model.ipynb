{
 "cells": [
  {
   "cell_type": "code",
   "execution_count": null,
   "metadata": {},
   "outputs": [],
   "source": [
    "import os\n",
    "import pandas as pd\n",
    "import seaborn as sns\n",
    "import matplotlib.pyplot as plt\n",
    "import numpy as np\n"
   ]
  },
  {
   "cell_type": "code",
   "execution_count": null,
   "metadata": {},
   "outputs": [
    {
     "data": {
      "text/html": [
       "<div>\n",
       "<style scoped>\n",
       "    .dataframe tbody tr th:only-of-type {\n",
       "        vertical-align: middle;\n",
       "    }\n",
       "\n",
       "    .dataframe tbody tr th {\n",
       "        vertical-align: top;\n",
       "    }\n",
       "\n",
       "    .dataframe thead th {\n",
       "        text-align: right;\n",
       "    }\n",
       "</style>\n",
       "<table border=\"1\" class=\"dataframe\">\n",
       "  <thead>\n",
       "    <tr style=\"text-align: right;\">\n",
       "      <th></th>\n",
       "      <th>energy-kcal_100g</th>\n",
       "      <th>saturated-fat_100g</th>\n",
       "      <th>trans-fat_100g</th>\n",
       "      <th>cholesterol_100g</th>\n",
       "      <th>sugars_100g</th>\n",
       "      <th>fiber_100g</th>\n",
       "      <th>proteins_100g</th>\n",
       "      <th>sodium_100g</th>\n",
       "      <th>calcium_100g</th>\n",
       "      <th>iron_100g</th>\n",
       "      <th>y</th>\n",
       "      <th>text</th>\n",
       "      <th>other_carbohydrates_100g</th>\n",
       "      <th>other_fat_100g</th>\n",
       "    </tr>\n",
       "  </thead>\n",
       "  <tbody>\n",
       "    <tr>\n",
       "      <th>0</th>\n",
       "      <td>633.0</td>\n",
       "      <td>8.33</td>\n",
       "      <td>0.0</td>\n",
       "      <td>0.000</td>\n",
       "      <td>0.00</td>\n",
       "      <td>3.33</td>\n",
       "      <td>26.70</td>\n",
       "      <td>20.000</td>\n",
       "      <td>0.0533</td>\n",
       "      <td>0.00933</td>\n",
       "      <td>27.0</td>\n",
       "      <td>Organic Raw Pumpkin Seeds (Cucurbita pepo)</td>\n",
       "      <td>9.97</td>\n",
       "      <td>44.970</td>\n",
       "    </tr>\n",
       "    <tr>\n",
       "      <th>1</th>\n",
       "      <td>263.0</td>\n",
       "      <td>0.00</td>\n",
       "      <td>0.0</td>\n",
       "      <td>0.000</td>\n",
       "      <td>8.77</td>\n",
       "      <td>7.00</td>\n",
       "      <td>7.02</td>\n",
       "      <td>0.684</td>\n",
       "      <td>0.0350</td>\n",
       "      <td>0.00316</td>\n",
       "      <td>39.0</td>\n",
       "      <td>Rye flour, water, whole wheat flour, bran flou...</td>\n",
       "      <td>36.86</td>\n",
       "      <td>3.510</td>\n",
       "    </tr>\n",
       "    <tr>\n",
       "      <th>2</th>\n",
       "      <td>228.0</td>\n",
       "      <td>0.00</td>\n",
       "      <td>0.0</td>\n",
       "      <td>0.000</td>\n",
       "      <td>8.77</td>\n",
       "      <td>1.80</td>\n",
       "      <td>5.26</td>\n",
       "      <td>0.561</td>\n",
       "      <td>0.0350</td>\n",
       "      <td>0.00253</td>\n",
       "      <td>41.0</td>\n",
       "      <td>Rye flour, water, wheat, flour, malt, molasses...</td>\n",
       "      <td>36.80</td>\n",
       "      <td>2.630</td>\n",
       "    </tr>\n",
       "    <tr>\n",
       "      <th>3</th>\n",
       "      <td>231.0</td>\n",
       "      <td>0.00</td>\n",
       "      <td>0.0</td>\n",
       "      <td>0.000</td>\n",
       "      <td>0.00</td>\n",
       "      <td>1.92</td>\n",
       "      <td>7.69</td>\n",
       "      <td>0.538</td>\n",
       "      <td>0.0192</td>\n",
       "      <td>0.00308</td>\n",
       "      <td>35.0</td>\n",
       "      <td>UNBLEACHED ENRICHED FLOUR WHEAT FLOUR, MALTED ...</td>\n",
       "      <td>44.28</td>\n",
       "      <td>0.962</td>\n",
       "    </tr>\n",
       "    <tr>\n",
       "      <th>4</th>\n",
       "      <td>94.0</td>\n",
       "      <td>0.00</td>\n",
       "      <td>0.0</td>\n",
       "      <td>0.194</td>\n",
       "      <td>0.00</td>\n",
       "      <td>0.00</td>\n",
       "      <td>21.18</td>\n",
       "      <td>0.224</td>\n",
       "      <td>0.0240</td>\n",
       "      <td>0.00318</td>\n",
       "      <td>36.0</td>\n",
       "      <td>Cooked shrimp, sodium tripolyphosphate (for mo...</td>\n",
       "      <td>0.00</td>\n",
       "      <td>1.180</td>\n",
       "    </tr>\n",
       "  </tbody>\n",
       "</table>\n",
       "</div>"
      ],
      "text/plain": [
       "   energy-kcal_100g  saturated-fat_100g  trans-fat_100g  cholesterol_100g  \\\n",
       "0             633.0                8.33             0.0             0.000   \n",
       "1             263.0                0.00             0.0             0.000   \n",
       "2             228.0                0.00             0.0             0.000   \n",
       "3             231.0                0.00             0.0             0.000   \n",
       "4              94.0                0.00             0.0             0.194   \n",
       "\n",
       "   sugars_100g  fiber_100g  proteins_100g  sodium_100g  calcium_100g  \\\n",
       "0         0.00        3.33          26.70       20.000        0.0533   \n",
       "1         8.77        7.00           7.02        0.684        0.0350   \n",
       "2         8.77        1.80           5.26        0.561        0.0350   \n",
       "3         0.00        1.92           7.69        0.538        0.0192   \n",
       "4         0.00        0.00          21.18        0.224        0.0240   \n",
       "\n",
       "   iron_100g     y                                               text  \\\n",
       "0    0.00933  27.0         Organic Raw Pumpkin Seeds (Cucurbita pepo)   \n",
       "1    0.00316  39.0  Rye flour, water, whole wheat flour, bran flou...   \n",
       "2    0.00253  41.0  Rye flour, water, wheat, flour, malt, molasses...   \n",
       "3    0.00308  35.0  UNBLEACHED ENRICHED FLOUR WHEAT FLOUR, MALTED ...   \n",
       "4    0.00318  36.0  Cooked shrimp, sodium tripolyphosphate (for mo...   \n",
       "\n",
       "   other_carbohydrates_100g  other_fat_100g  \n",
       "0                      9.97          44.970  \n",
       "1                     36.86           3.510  \n",
       "2                     36.80           2.630  \n",
       "3                     44.28           0.962  \n",
       "4                      0.00           1.180  "
      ]
     },
     "execution_count": 7,
     "metadata": {},
     "output_type": "execute_result"
    }
   ],
   "source": [
    "df = pd.read_parquet('../../raw_data/df.parquet')\n",
    "df.head()"
   ]
  },
  {
   "cell_type": "code",
   "execution_count": 9,
   "metadata": {},
   "outputs": [
    {
     "data": {
      "text/html": [
       "<div>\n",
       "<style scoped>\n",
       "    .dataframe tbody tr th:only-of-type {\n",
       "        vertical-align: middle;\n",
       "    }\n",
       "\n",
       "    .dataframe tbody tr th {\n",
       "        vertical-align: top;\n",
       "    }\n",
       "\n",
       "    .dataframe thead th {\n",
       "        text-align: right;\n",
       "    }\n",
       "</style>\n",
       "<table border=\"1\" class=\"dataframe\">\n",
       "  <thead>\n",
       "    <tr style=\"text-align: right;\">\n",
       "      <th></th>\n",
       "      <th>energy-kcal_100g</th>\n",
       "      <th>saturated-fat_100g</th>\n",
       "      <th>trans-fat_100g</th>\n",
       "      <th>cholesterol_100g</th>\n",
       "      <th>sugars_100g</th>\n",
       "      <th>fiber_100g</th>\n",
       "      <th>proteins_100g</th>\n",
       "      <th>sodium_100g</th>\n",
       "      <th>calcium_100g</th>\n",
       "      <th>iron_100g</th>\n",
       "      <th>text</th>\n",
       "      <th>other_carbohydrates_100g</th>\n",
       "      <th>other_fat_100g</th>\n",
       "    </tr>\n",
       "  </thead>\n",
       "  <tbody>\n",
       "    <tr>\n",
       "      <th>133126</th>\n",
       "      <td>125.0</td>\n",
       "      <td>2.34</td>\n",
       "      <td>0.0</td>\n",
       "      <td>0.020</td>\n",
       "      <td>1.56</td>\n",
       "      <td>1.6</td>\n",
       "      <td>7.81</td>\n",
       "      <td>0.422</td>\n",
       "      <td>0.031</td>\n",
       "      <td>0.00028</td>\n",
       "      <td>Cod (cod, water, sodium tripolyphosphate [to r...</td>\n",
       "      <td>0.75</td>\n",
       "      <td>6.25</td>\n",
       "    </tr>\n",
       "    <tr>\n",
       "      <th>64582</th>\n",
       "      <td>484.0</td>\n",
       "      <td>14.52</td>\n",
       "      <td>0.0</td>\n",
       "      <td>0.016</td>\n",
       "      <td>51.61</td>\n",
       "      <td>3.2</td>\n",
       "      <td>6.45</td>\n",
       "      <td>0.097</td>\n",
       "      <td>0.129</td>\n",
       "      <td>0.00116</td>\n",
       "      <td>Milk chocolate (sugar, cocoa butter, chocolate...</td>\n",
       "      <td>3.25</td>\n",
       "      <td>14.51</td>\n",
       "    </tr>\n",
       "    <tr>\n",
       "      <th>201417</th>\n",
       "      <td>353.0</td>\n",
       "      <td>5.88</td>\n",
       "      <td>0.0</td>\n",
       "      <td>0.000</td>\n",
       "      <td>0.00</td>\n",
       "      <td>0.0</td>\n",
       "      <td>0.00</td>\n",
       "      <td>0.794</td>\n",
       "      <td>0.000</td>\n",
       "      <td>0.00000</td>\n",
       "      <td>Soybean oil, water, distilled vinegar, minced ...</td>\n",
       "      <td>0.00</td>\n",
       "      <td>35.30</td>\n",
       "    </tr>\n",
       "    <tr>\n",
       "      <th>113150</th>\n",
       "      <td>100.0</td>\n",
       "      <td>0.00</td>\n",
       "      <td>0.0</td>\n",
       "      <td>0.000</td>\n",
       "      <td>0.00</td>\n",
       "      <td>0.0</td>\n",
       "      <td>0.00</td>\n",
       "      <td>1.700</td>\n",
       "      <td>0.200</td>\n",
       "      <td>0.00000</td>\n",
       "      <td>Olives, water, bleu cheese (pasteurized cultur...</td>\n",
       "      <td>10.00</td>\n",
       "      <td>10.00</td>\n",
       "    </tr>\n",
       "    <tr>\n",
       "      <th>75357</th>\n",
       "      <td>106.0</td>\n",
       "      <td>0.00</td>\n",
       "      <td>0.0</td>\n",
       "      <td>0.000</td>\n",
       "      <td>21.18</td>\n",
       "      <td>0.0</td>\n",
       "      <td>0.00</td>\n",
       "      <td>0.012</td>\n",
       "      <td>0.000</td>\n",
       "      <td>0.00042</td>\n",
       "      <td>Cherries, water, sugar, food starch-modified (...</td>\n",
       "      <td>3.53</td>\n",
       "      <td>0.00</td>\n",
       "    </tr>\n",
       "  </tbody>\n",
       "</table>\n",
       "</div>"
      ],
      "text/plain": [
       "        energy-kcal_100g  saturated-fat_100g  trans-fat_100g  \\\n",
       "133126             125.0                2.34             0.0   \n",
       "64582              484.0               14.52             0.0   \n",
       "201417             353.0                5.88             0.0   \n",
       "113150             100.0                0.00             0.0   \n",
       "75357              106.0                0.00             0.0   \n",
       "\n",
       "        cholesterol_100g  sugars_100g  fiber_100g  proteins_100g  sodium_100g  \\\n",
       "133126             0.020         1.56         1.6           7.81        0.422   \n",
       "64582              0.016        51.61         3.2           6.45        0.097   \n",
       "201417             0.000         0.00         0.0           0.00        0.794   \n",
       "113150             0.000         0.00         0.0           0.00        1.700   \n",
       "75357              0.000        21.18         0.0           0.00        0.012   \n",
       "\n",
       "        calcium_100g  iron_100g  \\\n",
       "133126         0.031    0.00028   \n",
       "64582          0.129    0.00116   \n",
       "201417         0.000    0.00000   \n",
       "113150         0.200    0.00000   \n",
       "75357          0.000    0.00042   \n",
       "\n",
       "                                                     text  \\\n",
       "133126  Cod (cod, water, sodium tripolyphosphate [to r...   \n",
       "64582   Milk chocolate (sugar, cocoa butter, chocolate...   \n",
       "201417  Soybean oil, water, distilled vinegar, minced ...   \n",
       "113150  Olives, water, bleu cheese (pasteurized cultur...   \n",
       "75357   Cherries, water, sugar, food starch-modified (...   \n",
       "\n",
       "        other_carbohydrates_100g  other_fat_100g  \n",
       "133126                      0.75            6.25  \n",
       "64582                       3.25           14.51  \n",
       "201417                      0.00           35.30  \n",
       "113150                     10.00           10.00  \n",
       "75357                       3.53            0.00  "
      ]
     },
     "execution_count": 9,
     "metadata": {},
     "output_type": "execute_result"
    }
   ],
   "source": [
    "X_train = df = pd.read_parquet('../../raw_data/X_train.parquet')\n",
    "X_train.head()"
   ]
  },
  {
   "cell_type": "code",
   "execution_count": 11,
   "metadata": {},
   "outputs": [
    {
     "data": {
      "text/plain": [
       "(163516, 13)"
      ]
     },
     "execution_count": 11,
     "metadata": {},
     "output_type": "execute_result"
    }
   ],
   "source": [
    "X_train.shape"
   ]
  },
  {
   "cell_type": "code",
   "execution_count": 10,
   "metadata": {},
   "outputs": [
    {
     "data": {
      "text/html": [
       "<div>\n",
       "<style scoped>\n",
       "    .dataframe tbody tr th:only-of-type {\n",
       "        vertical-align: middle;\n",
       "    }\n",
       "\n",
       "    .dataframe tbody tr th {\n",
       "        vertical-align: top;\n",
       "    }\n",
       "\n",
       "    .dataframe thead th {\n",
       "        text-align: right;\n",
       "    }\n",
       "</style>\n",
       "<table border=\"1\" class=\"dataframe\">\n",
       "  <thead>\n",
       "    <tr style=\"text-align: right;\">\n",
       "      <th></th>\n",
       "      <th>y_train</th>\n",
       "    </tr>\n",
       "  </thead>\n",
       "  <tbody>\n",
       "    <tr>\n",
       "      <th>133126</th>\n",
       "      <td>45.0</td>\n",
       "    </tr>\n",
       "    <tr>\n",
       "      <th>64582</th>\n",
       "      <td>71.0</td>\n",
       "    </tr>\n",
       "    <tr>\n",
       "      <th>201417</th>\n",
       "      <td>58.0</td>\n",
       "    </tr>\n",
       "    <tr>\n",
       "      <th>113150</th>\n",
       "      <td>60.0</td>\n",
       "    </tr>\n",
       "    <tr>\n",
       "      <th>75357</th>\n",
       "      <td>46.0</td>\n",
       "    </tr>\n",
       "  </tbody>\n",
       "</table>\n",
       "</div>"
      ],
      "text/plain": [
       "        y_train\n",
       "133126     45.0\n",
       "64582      71.0\n",
       "201417     58.0\n",
       "113150     60.0\n",
       "75357      46.0"
      ]
     },
     "execution_count": 10,
     "metadata": {},
     "output_type": "execute_result"
    }
   ],
   "source": [
    "y_train = df = pd.read_parquet('../../raw_data/y_train.parquet')\n",
    "y_train.head()"
   ]
  },
  {
   "cell_type": "code",
   "execution_count": 12,
   "metadata": {},
   "outputs": [
    {
     "data": {
      "text/plain": [
       "(163516, 1)"
      ]
     },
     "execution_count": 12,
     "metadata": {},
     "output_type": "execute_result"
    }
   ],
   "source": [
    "y_train.shape"
   ]
  },
  {
   "cell_type": "code",
   "execution_count": 13,
   "metadata": {},
   "outputs": [
    {
     "data": {
      "text/plain": [
       "(40879, 13)"
      ]
     },
     "execution_count": 13,
     "metadata": {},
     "output_type": "execute_result"
    }
   ],
   "source": [
    "X_test = df = pd.read_parquet('../../raw_data/X_test.parquet')\n",
    "X_test.shape"
   ]
  },
  {
   "cell_type": "code",
   "execution_count": 16,
   "metadata": {},
   "outputs": [
    {
     "data": {
      "text/plain": [
       "(40879, 1)"
      ]
     },
     "execution_count": 16,
     "metadata": {},
     "output_type": "execute_result"
    }
   ],
   "source": [
    "y_test = df = pd.read_parquet('../../raw_data/y_test.parquet')\n",
    "y_test.shape"
   ]
  },
  {
   "cell_type": "code",
   "execution_count": null,
   "metadata": {},
   "outputs": [],
   "source": []
  },
  {
   "cell_type": "code",
   "execution_count": null,
   "metadata": {},
   "outputs": [],
   "source": []
  }
 ],
 "metadata": {
  "kernelspec": {
   "display_name": "smartfoodscan",
   "language": "python",
   "name": "python3"
  },
  "language_info": {
   "codemirror_mode": {
    "name": "ipython",
    "version": 3
   },
   "file_extension": ".py",
   "mimetype": "text/x-python",
   "name": "python",
   "nbconvert_exporter": "python",
   "pygments_lexer": "ipython3",
   "version": "3.10.6"
  }
 },
 "nbformat": 4,
 "nbformat_minor": 2
}
