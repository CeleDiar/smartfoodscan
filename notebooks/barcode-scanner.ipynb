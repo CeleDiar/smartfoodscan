{
 "cells": [
  {
   "cell_type": "markdown",
   "metadata": {},
   "source": [
    "# BARCODE SCANNER"
   ]
  },
  {
   "cell_type": "code",
   "execution_count": 5,
   "metadata": {},
   "outputs": [
    {
     "name": "stdout",
     "output_type": "stream",
     "text": [
      "Collecting zbar-py\n",
      "  Downloading zbar-py-1.0.4.tar.gz (543 kB)\n",
      "\u001b[2K     \u001b[90m━━━━━━━━━━━━━━━━━━━━━━━━━━━━━━━━━━━━━━━\u001b[0m \u001b[32m543.9/543.9 kB\u001b[0m \u001b[31m9.2 MB/s\u001b[0m eta \u001b[36m0:00:00\u001b[0m\n",
      "\u001b[?25h  Installing build dependencies ... \u001b[?25ldone\n",
      "\u001b[?25h  Getting requirements to build wheel ... \u001b[?25ldone\n",
      "\u001b[?25h  Preparing metadata (pyproject.toml) ... \u001b[?25ldone\n",
      "\u001b[?25hRequirement already satisfied: numpy in /home/juan/.pyenv/versions/3.10.6/envs/smartfoodscan/lib/python3.10/site-packages (from zbar-py) (2.2.2)\n",
      "Building wheels for collected packages: zbar-py\n",
      "  Building wheel for zbar-py (pyproject.toml) ... \u001b[?25ldone\n",
      "\u001b[?25h  Created wheel for zbar-py: filename=zbar_py-1.0.4-cp310-cp310-linux_x86_64.whl size=283929 sha256=c866281e15b1c166d71707a675eff688c745385768b9b6b8acc8e4cfe1f460d9\n",
      "  Stored in directory: /home/juan/.cache/pip/wheels/d8/97/ee/8ab6a686b53eb2d2cd103d053962d98d39e6c2acdac887596c\n",
      "Successfully built zbar-py\n",
      "Installing collected packages: zbar-py\n",
      "Successfully installed zbar-py-1.0.4\n",
      "Note: you may need to restart the kernel to use updated packages.\n",
      "Requirement already satisfied: pyzbar in /home/juan/.pyenv/versions/3.10.6/envs/smartfoodscan/lib/python3.10/site-packages (0.1.9)\n",
      "Note: you may need to restart the kernel to use updated packages.\n"
     ]
    }
   ],
   "source": [
    "%pip install zbar-py\n",
    "%pip install pyzbar"
   ]
  },
  {
   "cell_type": "code",
   "execution_count": null,
   "metadata": {},
   "outputs": [
    {
     "ename": "SyntaxError",
     "evalue": "invalid syntax (2392787330.py, line 3)",
     "output_type": "error",
     "traceback": [
      "\u001b[0;36m  Cell \u001b[0;32mIn[3], line 3\u001b[0;36m\u001b[0m\n\u001b[0;31m    pip install pyzbar opencv-python\u001b[0m\n\u001b[0m        ^\u001b[0m\n\u001b[0;31mSyntaxError\u001b[0m\u001b[0;31m:\u001b[0m invalid syntax\n"
     ]
    }
   ],
   "source": [
    "# Install libraries\n",
    "\n",
    "pip install pyzbar opencv-python\n"
   ]
  },
  {
   "cell_type": "code",
   "execution_count": 12,
   "metadata": {},
   "outputs": [
    {
     "name": "stderr",
     "output_type": "stream",
     "text": [
      "[ WARN:0@1136.238] global cap_v4l.cpp:913 open VIDEOIO(V4L2:/dev/video0): can't open camera by index\n",
      "[ERROR:0@1136.240] global obsensor_uvc_stream_channel.cpp:158 getStreamChannelGroup Camera index out of range\n"
     ]
    },
    {
     "ename": "TypeError",
     "evalue": "cannot unpack non-iterable NoneType object",
     "output_type": "error",
     "traceback": [
      "\u001b[0;31m---------------------------------------------------------------------------\u001b[0m",
      "\u001b[0;31mTypeError\u001b[0m                                 Traceback (most recent call last)",
      "Cell \u001b[0;32mIn[12], line 12\u001b[0m\n\u001b[1;32m      9\u001b[0m ret, frame \u001b[38;5;241m=\u001b[39m cap\u001b[38;5;241m.\u001b[39mread()\n\u001b[1;32m     11\u001b[0m \u001b[38;5;66;03m# Decode barcodes in the frame\u001b[39;00m\n\u001b[0;32m---> 12\u001b[0m barcodes \u001b[38;5;241m=\u001b[39m \u001b[43mdecode\u001b[49m\u001b[43m(\u001b[49m\u001b[43mframe\u001b[49m\u001b[43m)\u001b[49m\n\u001b[1;32m     14\u001b[0m \u001b[38;5;28;01mfor\u001b[39;00m barcode \u001b[38;5;129;01min\u001b[39;00m barcodes:\n\u001b[1;32m     15\u001b[0m     \u001b[38;5;66;03m# Extract the bounding box coordinates\u001b[39;00m\n\u001b[1;32m     16\u001b[0m     x, y, w, h \u001b[38;5;241m=\u001b[39m barcode\u001b[38;5;241m.\u001b[39mrect\n",
      "File \u001b[0;32m~/.pyenv/versions/smartfoodscan/lib/python3.10/site-packages/pyzbar/pyzbar.py:207\u001b[0m, in \u001b[0;36mdecode\u001b[0;34m(image, symbols)\u001b[0m\n\u001b[1;32m    196\u001b[0m \u001b[38;5;28;01mdef\u001b[39;00m\u001b[38;5;250m \u001b[39m\u001b[38;5;21mdecode\u001b[39m(image, symbols\u001b[38;5;241m=\u001b[39m\u001b[38;5;28;01mNone\u001b[39;00m):\n\u001b[1;32m    197\u001b[0m \u001b[38;5;250m    \u001b[39m\u001b[38;5;124;03m\"\"\"Decodes datamatrix barcodes in `image`.\u001b[39;00m\n\u001b[1;32m    198\u001b[0m \n\u001b[1;32m    199\u001b[0m \u001b[38;5;124;03m    Args:\u001b[39;00m\n\u001b[0;32m   (...)\u001b[0m\n\u001b[1;32m    205\u001b[0m \u001b[38;5;124;03m        :obj:`list` of :obj:`Decoded`: The values decoded from barcodes.\u001b[39;00m\n\u001b[1;32m    206\u001b[0m \u001b[38;5;124;03m    \"\"\"\u001b[39;00m\n\u001b[0;32m--> 207\u001b[0m     pixels, width, height \u001b[38;5;241m=\u001b[39m \u001b[43m_pixel_data\u001b[49m\u001b[43m(\u001b[49m\u001b[43mimage\u001b[49m\u001b[43m)\u001b[49m\n\u001b[1;32m    209\u001b[0m     results \u001b[38;5;241m=\u001b[39m []\n\u001b[1;32m    210\u001b[0m     \u001b[38;5;28;01mwith\u001b[39;00m _image_scanner() \u001b[38;5;28;01mas\u001b[39;00m scanner:\n",
      "File \u001b[0;32m~/.pyenv/versions/smartfoodscan/lib/python3.10/site-packages/pyzbar/pyzbar.py:173\u001b[0m, in \u001b[0;36m_pixel_data\u001b[0;34m(image)\u001b[0m\n\u001b[1;32m    170\u001b[0m     height, width \u001b[38;5;241m=\u001b[39m image\u001b[38;5;241m.\u001b[39mshape[:\u001b[38;5;241m2\u001b[39m]\n\u001b[1;32m    171\u001b[0m \u001b[38;5;28;01melse\u001b[39;00m:\n\u001b[1;32m    172\u001b[0m     \u001b[38;5;66;03m# image should be a tuple (pixels, width, height)\u001b[39;00m\n\u001b[0;32m--> 173\u001b[0m     pixels, width, height \u001b[38;5;241m=\u001b[39m image\n\u001b[1;32m    175\u001b[0m     \u001b[38;5;66;03m# Check dimensions\u001b[39;00m\n\u001b[1;32m    176\u001b[0m     \u001b[38;5;28;01mif\u001b[39;00m \u001b[38;5;241m0\u001b[39m \u001b[38;5;241m!=\u001b[39m \u001b[38;5;28mlen\u001b[39m(pixels) \u001b[38;5;241m%\u001b[39m (width \u001b[38;5;241m*\u001b[39m height):\n",
      "\u001b[0;31mTypeError\u001b[0m: cannot unpack non-iterable NoneType object"
     ]
    }
   ],
   "source": [
    "import cv2\n",
    "from pyzbar.pyzbar import decode\n",
    "\n",
    "# Initialize the video capture object\n",
    "cap = cv2.VideoCapture(0)\n",
    "\n",
    "while True:\n",
    "    # Capture frame-by-frame\n",
    "    ret, frame = cap.read()\n",
    "    \n",
    "    # Decode barcodes in the frame\n",
    "    barcodes = decode(frame)\n",
    "    \n",
    "    for barcode in barcodes:\n",
    "        # Extract the bounding box coordinates\n",
    "        x, y, w, h = barcode.rect\n",
    "        # Draw a rectangle around the barcode\n",
    "        cv2.rectangle(frame, (x, y), (x + w, y + h), (0, 255, 0), 2)\n",
    "        \n",
    "        # Decode the barcode data\n",
    "        barcode_data = barcode.data.decode('utf-8')\n",
    "        barcode_type = barcode.type\n",
    "        \n",
    "        # Display the barcode data and type on the frame\n",
    "        text = f'{barcode_data} ({barcode_type})'\n",
    "        cv2.putText(frame, text, (x, y - 10), cv2.FONT_HERSHEY_SIMPLEX, 0.5, (0, 255, 0), 2)\n",
    "    \n",
    "    # Display the resulting frame\n",
    "    cv2.imshow('Barcode Scanner', frame)\n",
    "    \n",
    "    # Break the loop when 'q' is pressed\n",
    "    if cv2.waitKey(1) & 0xFF == ord('q'):\n",
    "        break\n",
    "\n",
    "# Release the capture and close windows\n",
    "cap.release()\n",
    "cv2.destroyAllWindows()"
   ]
  },
  {
   "cell_type": "code",
   "execution_count": 10,
   "metadata": {},
   "outputs": [],
   "source": [
    "# Ensure zbar shared library is installed\n",
    "#!sudo apt-get install libzbar0\n",
    "\n",
    "from pyzbar.pyzbar import decode"
   ]
  },
  {
   "cell_type": "markdown",
   "metadata": {},
   "source": [
    "## module to read the barcode from a picture"
   ]
  },
  {
   "cell_type": "code",
   "execution_count": 17,
   "metadata": {},
   "outputs": [
    {
     "name": "stdout",
     "output_type": "stream",
     "text": [
      "Data: 4890008100309, Type: EAN13\n"
     ]
    }
   ],
   "source": [
    "from pyzbar.pyzbar import decode\n",
    "from PIL import Image\n",
    "\n",
    "# Load the image\n",
    "image = Image.open('/home/juan/code/michael-wales/smartfoodscan/images/barcode.jpeg')\n",
    "\n",
    "# Decode the barcode\n",
    "decoded = decode(image)\n",
    "\n",
    "# Print the barcode data and type\n",
    "for barcode in decoded:\n",
    "    print(f'Data: {barcode.data.decode(\"utf-8\")}, Type: {barcode.type}')"
   ]
  }
 ],
 "metadata": {
  "kernelspec": {
   "display_name": "smartfoodscan",
   "language": "python",
   "name": "python3"
  },
  "language_info": {
   "codemirror_mode": {
    "name": "ipython",
    "version": 3
   },
   "file_extension": ".py",
   "mimetype": "text/x-python",
   "name": "python",
   "nbconvert_exporter": "python",
   "pygments_lexer": "ipython3",
   "version": "3.10.6"
  }
 },
 "nbformat": 4,
 "nbformat_minor": 2
}
