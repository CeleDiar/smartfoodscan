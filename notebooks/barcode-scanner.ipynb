{
 "cells": [
  {
   "cell_type": "markdown",
   "metadata": {},
   "source": [
    "# BARCODE SCANNER"
   ]
  },
  {
   "cell_type": "markdown",
   "metadata": {},
   "source": [
    "## Module to read the barcode from a picture"
   ]
  },
  {
   "cell_type": "code",
   "execution_count": 105,
   "metadata": {},
   "outputs": [],
   "source": [
    "from pyzbar.pyzbar import decode\n",
    "from PIL import Image\n",
    "\n",
    "# Load the image\n",
    "image = Image.open('../images/test_no_barcode.jpg')\n",
    "\n",
    "def barcode_scanner(image):\n",
    "    \n",
    "    # Decode the barcode\n",
    "    decoded = decode(image)\n",
    "\n",
    "    # Print the barcode data and type\n",
    "    for barcode in decoded:\n",
    "        \n",
    "        return int(barcode.data.decode(\"utf-8\"))\n",
    "\n",
    "#barcode number as int\n",
    "key = barcode_scanner(image)\n",
    "key\n"
   ]
  },
  {
   "cell_type": "markdown",
   "metadata": {},
   "source": [
    "### CALL TO API"
   ]
  },
  {
   "cell_type": "code",
   "execution_count": 99,
   "metadata": {},
   "outputs": [
    {
     "data": {
      "text/plain": [
       "'Product not found'"
      ]
     },
     "execution_count": 99,
     "metadata": {},
     "output_type": "execute_result"
    }
   ],
   "source": [
    "#call API \n",
    "import pandas as pd\n",
    "import requests\n",
    "import json\n",
    "\n",
    "#make the request to the API\n",
    "def get_food_data(key):\n",
    "    url = f\"https://world.openfoodfacts.org/api/v0/product/{key}.json\"\n",
    "    response = requests.get(url)\n",
    "    if response.status_code == 200: \n",
    "        data = response.json()\n",
    "        if data.get('status')== 1:\n",
    "            return data['product']\n",
    "        else:\n",
    "            return f\"Product not found\"\n",
    "    else:\n",
    "        return f\"Error connection with the API: {response.status_code}\"\n",
    "    \n",
    "\n",
    "food_data =get_food_data(key)\n",
    "food_data\n",
    "\n",
    "\n"
   ]
  }
 ],
 "metadata": {
  "kernelspec": {
   "display_name": "smartfoodscan",
   "language": "python",
   "name": "python3"
  },
  "language_info": {
   "codemirror_mode": {
    "name": "ipython",
    "version": 3
   },
   "file_extension": ".py",
   "mimetype": "text/x-python",
   "name": "python",
   "nbconvert_exporter": "python",
   "pygments_lexer": "ipython3",
   "version": "3.10.6"
  }
 },
 "nbformat": 4,
 "nbformat_minor": 2
}
