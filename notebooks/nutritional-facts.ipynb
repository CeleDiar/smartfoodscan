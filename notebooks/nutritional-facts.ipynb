{
 "cells": [
  {
   "cell_type": "code",
   "execution_count": 85,
   "metadata": {},
   "outputs": [],
   "source": [
    "from google.cloud import vision\n",
    "import pandas as pd\n",
    "import io\n",
    "import re"
   ]
  },
  {
   "cell_type": "markdown",
   "metadata": {},
   "source": [
    "### Extract text from image"
   ]
  },
  {
   "cell_type": "code",
   "execution_count": 86,
   "metadata": {},
   "outputs": [],
   "source": [
    "client = vision.ImageAnnotatorClient()\n",
    "\n",
    "def extract_text(image_path):\n",
    "    with io.open(image_path, 'rb') as image_file:\n",
    "        content = image_file.read()\n",
    "\n",
    "    image = vision.Image(content=content)\n",
    "    response = client.text_detection(image=image)\n",
    "    texts = response.text_annotations\n",
    "\n",
    "    return texts[0].description if texts else \"\"\n"
   ]
  },
  {
   "cell_type": "code",
   "execution_count": null,
   "metadata": {},
   "outputs": [
    {
     "name": "stdout",
     "output_type": "stream",
     "text": [
      "Nutrition\n",
      "Serving Size 3/4 cup (28g)\n",
      "Facts\n",
      "Servings Per Container about 22\n",
      "with 12\n",
      "Amount\n",
      "Honey Nut\n",
      "Per Serving\n",
      "Cheerios\n",
      "cup skim\n",
      "milk\n",
      "Calories\n",
      "110\n",
      "150\n",
      "Calories from Fat\n",
      "15\n",
      "15\n",
      "% Daily Value**\n",
      "Total Fat 1.5g*\n",
      "2%\n",
      "2%\n",
      "Saturated Fat Og\n",
      "0%\n",
      "0%\n",
      "Trans Fat 0g\n",
      "Polyunsaturated Fat 0.5g\n",
      "Monounsaturated Fat 0.5g\n",
      "Cholesterol Omg\n",
      "0%\n",
      "1%\n",
      "Sodium 160mg\n",
      "7%\n",
      "9%\n",
      "Potassium 115mg\n",
      "3%\n",
      "9%\n",
      "Total\n",
      "Carbohydrate 22g\n",
      "7%\n",
      "9%\n",
      "Dietary Fiber 2g\n",
      "8%\n",
      "8%\n",
      "Soluble Fiber less than 1g\n",
      "Sugars 9g\n",
      "Other Carbohydrate 11g\n",
      "Protein 2g\n",
      "Vitamin A\n",
      "10%\n",
      "15%\n",
      "Vitamin C\n",
      "10%\n",
      "10%\n",
      "Calcium\n",
      "10%\n",
      "25%\n",
      "Iron\n",
      "25%\n",
      "25%\n",
      "Vitamin D\n",
      "10%\n",
      "25%\n",
      "Thiamin\n",
      "25%\n",
      "30%\n",
      "Riboflavin\n",
      "25%\n",
      "35%\n",
      "Niacin\n",
      "25%\n",
      "25%\n",
      "Vitamin B6\n",
      "25%\n",
      "25%\n",
      "Folic Acid\n",
      "50%\n",
      "50%\n",
      "Vitamin B12\n",
      "25%\n",
      "35%\n",
      "Phosphorus\n",
      "8%\n",
      "20%\n",
      "Magnesium\n",
      "6%\n",
      "10%\n",
      "Zinc\n",
      "25%\n",
      "30%\n",
      "w\n",
      "Amount in cereal. A serving of cereal plus skim milk\n",
      "provides 1.5g total fat, less than 5mg cholesterol,\n",
      "220mg sodium, 320mg potassium, 28g total\n",
      "carbohydrate (15g sugars, 12g other carbohydrate), and\n",
      "7g protein.\n",
      "** Percent Daily Values are based on a 2,000 calorie diet.\n",
      "Your daily values may be higher or lower depending on\n",
      "your calorie needs:\n",
      "Total Fat\n",
      "Sat Fat\n",
      "Cholesterol\n",
      "Sodium\n",
      "Calories\n",
      "2,000\n",
      "2,500\n",
      "Less than\n",
      "65g\n",
      "80g\n",
      "Less than\n",
      "20g\n",
      "25g\n",
      "Less than\n",
      "300mg\n",
      "300mg\n",
      "Less than\n",
      "2,400mg\n",
      "2,400mg\n",
      "3,500mg\n",
      "3,500mg\n",
      "300g\n",
      "375g\n",
      "25g\n",
      "30g\n",
      "Potassium\n",
      "Total Carbohydrate\n",
      "Dietary Fiber\n",
      "Ingredients: Whole Grain Oats, Sugar,\n"
     ]
    }
   ],
   "source": [
    "text = extract_text('../images/nutrition_facts3.jpg')\n",
    "print(text)"
   ]
  },
  {
   "cell_type": "code",
   "execution_count": 88,
   "metadata": {},
   "outputs": [
    {
     "data": {
      "text/plain": [
       "['Nutrition',\n",
       " 'Serving Size 3/4 cup (28g)',\n",
       " 'Facts',\n",
       " 'Servings Per Container about 22',\n",
       " 'with 12',\n",
       " 'Amount',\n",
       " 'Honey Nut',\n",
       " 'Per Serving',\n",
       " 'Cheerios',\n",
       " 'cup skim',\n",
       " 'milk',\n",
       " 'Calories',\n",
       " '110',\n",
       " '150',\n",
       " 'Calories from Fat',\n",
       " '15',\n",
       " '15',\n",
       " '% Daily Value**',\n",
       " 'Total Fat 1.5g*',\n",
       " '2%',\n",
       " '2%',\n",
       " 'Saturated Fat Og',\n",
       " '0%',\n",
       " '0%',\n",
       " 'Trans Fat 0g',\n",
       " 'Polyunsaturated Fat 0.5g',\n",
       " 'Monounsaturated Fat 0.5g',\n",
       " 'Cholesterol Omg',\n",
       " '0%',\n",
       " '1%',\n",
       " 'Sodium 160mg',\n",
       " '7%',\n",
       " '9%',\n",
       " 'Potassium 115mg',\n",
       " '3%',\n",
       " '9%',\n",
       " 'Total',\n",
       " 'Carbohydrate 22g',\n",
       " '7%',\n",
       " '9%',\n",
       " 'Dietary Fiber 2g',\n",
       " '8%',\n",
       " '8%',\n",
       " 'Soluble Fiber less than 1g',\n",
       " 'Sugars 9g',\n",
       " 'Other Carbohydrate 11g',\n",
       " 'Protein 2g',\n",
       " 'Vitamin A',\n",
       " '10%',\n",
       " '15%',\n",
       " 'Vitamin C',\n",
       " '10%',\n",
       " '10%',\n",
       " 'Calcium',\n",
       " '10%',\n",
       " '25%',\n",
       " 'Iron',\n",
       " '25%',\n",
       " '25%',\n",
       " 'Vitamin D',\n",
       " '10%',\n",
       " '25%',\n",
       " 'Thiamin',\n",
       " '25%',\n",
       " '30%',\n",
       " 'Riboflavin',\n",
       " '25%',\n",
       " '35%',\n",
       " 'Niacin',\n",
       " '25%',\n",
       " '25%',\n",
       " 'Vitamin B6',\n",
       " '25%',\n",
       " '25%',\n",
       " 'Folic Acid',\n",
       " '50%',\n",
       " '50%',\n",
       " 'Vitamin B12',\n",
       " '25%',\n",
       " '35%',\n",
       " 'Phosphorus',\n",
       " '8%',\n",
       " '20%',\n",
       " 'Magnesium',\n",
       " '6%',\n",
       " '10%',\n",
       " 'Zinc',\n",
       " '25%',\n",
       " '30%',\n",
       " 'w',\n",
       " 'Amount in cereal. A serving of cereal plus skim milk',\n",
       " 'provides 1.5g total fat, less than 5mg cholesterol,',\n",
       " '220mg sodium, 320mg potassium, 28g total',\n",
       " 'carbohydrate (15g sugars, 12g other carbohydrate), and',\n",
       " '7g protein.',\n",
       " '** Percent Daily Values are based on a 2,000 calorie diet.',\n",
       " 'Your daily values may be higher or lower depending on',\n",
       " 'your calorie needs:',\n",
       " 'Total Fat',\n",
       " 'Sat Fat',\n",
       " 'Cholesterol',\n",
       " 'Sodium',\n",
       " 'Calories',\n",
       " '2,000',\n",
       " '2,500',\n",
       " 'Less than',\n",
       " '65g',\n",
       " '80g',\n",
       " 'Less than',\n",
       " '20g',\n",
       " '25g',\n",
       " 'Less than',\n",
       " '300mg',\n",
       " '300mg',\n",
       " 'Less than',\n",
       " '2,400mg',\n",
       " '2,400mg',\n",
       " '3,500mg',\n",
       " '3,500mg',\n",
       " '300g',\n",
       " '375g',\n",
       " '25g',\n",
       " '30g',\n",
       " 'Potassium',\n",
       " 'Total Carbohydrate',\n",
       " 'Dietary Fiber',\n",
       " 'Ingredients: Whole Grain Oats, Sugar,']"
      ]
     },
     "execution_count": 88,
     "metadata": {},
     "output_type": "execute_result"
    }
   ],
   "source": [
    "# Extracting the nutrition as list\n",
    "nutrition_list = text.split(\"\\n\")\n",
    "nutrition_list = [nutrient for nutrient in nutrition_list if nutrient]\n",
    "nutrition_list"
   ]
  },
  {
   "cell_type": "code",
   "execution_count": 89,
   "metadata": {},
   "outputs": [],
   "source": [
    "features = ['energy-kcal_100g', 'saturated-fat_100g', 'trans-fat_100g', 'cholesterol_100g',\n",
    "            'sugars_100g', 'fiber_100g', 'proteins_100g', 'sodium_100g', 'calcium_100g',\n",
    "            'iron_100g', 'other_carbohydrates_100g', 'fat_100g', 'ingredients']"
   ]
  },
  {
   "cell_type": "code",
   "execution_count": 90,
   "metadata": {},
   "outputs": [
    {
     "data": {
      "text/plain": [
       "{'energy-kcal_100g': 0,\n",
       " 'saturated-fat_100g': 0,\n",
       " 'trans-fat_100g': 0,\n",
       " 'cholesterol_100g': 0,\n",
       " 'sugars_100g': 0,\n",
       " 'fiber_100g': 0,\n",
       " 'proteins_100g': 0,\n",
       " 'sodium_100g': 0,\n",
       " 'calcium_100g': 0,\n",
       " 'iron_100g': 0,\n",
       " 'other_carbohydrates_100g': 0,\n",
       " 'fat_100g': 0,\n",
       " 'ingredients': 0}"
      ]
     },
     "execution_count": 90,
     "metadata": {},
     "output_type": "execute_result"
    }
   ],
   "source": [
    "nutrition_dict = {feature: 0 for feature in features}\n",
    "nutrition_dict"
   ]
  },
  {
   "cell_type": "code",
   "execution_count": 91,
   "metadata": {},
   "outputs": [],
   "source": [
    "key_mapping = {\n",
    "    'energy-kcal_100g': 'Calories',\n",
    "    'saturated-fat_100g': 'Saturated Fat',\n",
    "    'trans-fat_100g': 'Trans Fat',\n",
    "    'cholesterol_100g': 'Cholesterol',\n",
    "    'sugars_100g': 'Sugars',\n",
    "    'fiber_100g': 'Dietary Fiber',\n",
    "    'proteins_100g': 'Protein',\n",
    "    'sodium_100g': 'Sodium',\n",
    "    'calcium_100g': 'Calcium',\n",
    "    'iron_100g': 'Iron',\n",
    "    'other_carbohydrates_100g': 'Carbohydrate',\n",
    "    'fat_100g': 'total Fat',\n",
    "    'ingredients': 'ingredients'\n",
    "}"
   ]
  },
  {
   "cell_type": "markdown",
   "metadata": {},
   "source": [
    "### Extracting the nutrition values"
   ]
  },
  {
   "cell_type": "code",
   "execution_count": 92,
   "metadata": {},
   "outputs": [],
   "source": [
    "def extract_values(nutrition_dict, nutrition_list, key_mapping):\n",
    "    for key, search_term in key_mapping.items():\n",
    "        for i, item in enumerate(nutrition_list):\n",
    "            if search_term.lower() in item.lower():\n",
    "                # If we find \"Calories\", we need to explicitly capture the next numeric value\n",
    "                if search_term.lower() == 'calories':\n",
    "                    if i + 1 < len(nutrition_list):\n",
    "                        match = re.search(r'(\\d+\\.?\\d*)', nutrition_list[i + 1])\n",
    "                        if match:\n",
    "                            value = match.group(1)\n",
    "                            nutrition_dict[key] = float(value) if '.' in value else int(value)\n",
    "                    break\n",
    "                # Handle \"Calcium\" and \"Iron\" to capture next numeric values\n",
    "                elif search_term.lower() == 'calcium' or search_term.lower() == 'iron':\n",
    "                    if i + 1 < len(nutrition_list):\n",
    "                        match = re.search(r'(\\d+)%?', nutrition_list[i + 1])\n",
    "                        if match:\n",
    "                            value = match.group(1)\n",
    "                            nutrition_dict[key] = float(value)/100 if '.' in value else int(value)/100\n",
    "                    break\n",
    "\n",
    "                elif search_term.lower() == 'ingredients':\n",
    "                    match = re.search(r'ingredients[:\\s]*([^$]+)', item, re.IGNORECASE)\n",
    "                    if match:\n",
    "                        ingredients_text = match.group(1).strip()  # Capture the text after \"Ingredients:\"\n",
    "                        nutrition_dict[key] = ingredients_text\n",
    "                    break\n",
    "\n",
    "                else:\n",
    "                    # For other terms, we just capture the numeric value\n",
    "                    match = re.search(r'(\\d+\\.?\\d*)\\s?(g|mg|%)?', item)\n",
    "                    if match:\n",
    "                        value = match.group(1)\n",
    "                        if value:\n",
    "                            nutrition_dict[key] = float(value) if '.' in value else int(value)\n",
    "                    break\n",
    "    return nutrition_dict"
   ]
  },
  {
   "cell_type": "code",
   "execution_count": 93,
   "metadata": {},
   "outputs": [
    {
     "data": {
      "text/plain": [
       "{'energy-kcal_100g': 110,\n",
       " 'saturated-fat_100g': 0,\n",
       " 'trans-fat_100g': 0,\n",
       " 'cholesterol_100g': 0,\n",
       " 'sugars_100g': 9,\n",
       " 'fiber_100g': 2,\n",
       " 'proteins_100g': 2,\n",
       " 'sodium_100g': 160,\n",
       " 'calcium_100g': 0.1,\n",
       " 'iron_100g': 0.25,\n",
       " 'other_carbohydrates_100g': 22,\n",
       " 'fat_100g': 1.5,\n",
       " 'ingredients': 'Whole Grain Oats, Sugar,'}"
      ]
     },
     "execution_count": 93,
     "metadata": {},
     "output_type": "execute_result"
    }
   ],
   "source": [
    "updated_nutrition_dict = extract_values(nutrition_dict, nutrition_list, key_mapping)\n",
    "updated_nutrition_dict"
   ]
  },
  {
   "cell_type": "code",
   "execution_count": 94,
   "metadata": {},
   "outputs": [],
   "source": [
    "def convert_mg_to_g(nutrition_dict):\n",
    "    # Conversion factor: 1 mg = 0.001 g\n",
    "    conversion_factor = 0.001\n",
    "    keys_to_convert = ['cholesterol_100g', 'sodium_100g']\n",
    "\n",
    "    for key in keys_to_convert:\n",
    "        if key in nutrition_dict:\n",
    "            nutrition_dict[key] = nutrition_dict[key] * conversion_factor\n",
    "\n",
    "    return nutrition_dict"
   ]
  },
  {
   "cell_type": "code",
   "execution_count": 101,
   "metadata": {},
   "outputs": [
    {
     "data": {
      "text/plain": [
       "{'energy-kcal_100g': 110,\n",
       " 'saturated-fat_100g': 0,\n",
       " 'trans-fat_100g': 0,\n",
       " 'cholesterol_100g': 0.0,\n",
       " 'sugars_100g': 9,\n",
       " 'fiber_100g': 2,\n",
       " 'proteins_100g': 2,\n",
       " 'sodium_100g': 0.00016,\n",
       " 'calcium_100g': 0.1,\n",
       " 'iron_100g': 0.25,\n",
       " 'other_carbohydrates_100g': 22,\n",
       " 'fat_100g': 1.5,\n",
       " 'ingredients': 'Whole Grain Oats, Sugar,'}"
      ]
     },
     "execution_count": 101,
     "metadata": {},
     "output_type": "execute_result"
    }
   ],
   "source": [
    "new_nutrition_dict = convert_mg_to_g(updated_nutrition_dict)\n",
    "new_nutrition_dict"
   ]
  },
  {
   "cell_type": "markdown",
   "metadata": {},
   "source": [
    "### Extracting serving size"
   ]
  },
  {
   "cell_type": "code",
   "execution_count": 96,
   "metadata": {},
   "outputs": [],
   "source": [
    "def extract_serving_size(nutrition_list):\n",
    "    for item in nutrition_list:\n",
    "        match = re.search(r'\\((\\d+)', item)\n",
    "        if match:\n",
    "            return int(match.group(1))\n",
    "    return None"
   ]
  },
  {
   "cell_type": "code",
   "execution_count": 97,
   "metadata": {},
   "outputs": [
    {
     "data": {
      "text/plain": [
       "28"
      ]
     },
     "execution_count": 97,
     "metadata": {},
     "output_type": "execute_result"
    }
   ],
   "source": [
    "serving_size = extract_serving_size(nutrition_list)\n",
    "serving_size"
   ]
  },
  {
   "cell_type": "markdown",
   "metadata": {},
   "source": [
    "### Convert data of the serving size to 100g"
   ]
  },
  {
   "cell_type": "code",
   "execution_count": 98,
   "metadata": {},
   "outputs": [],
   "source": [
    "def convert_to_100g(nutrition_dict, serving_size=serving_size):\n",
    "    nutrition_100g = {}\n",
    "    for key, value in nutrition_dict.items():\n",
    "        if isinstance(value, str):\n",
    "            nutrition_100g[key] = value\n",
    "        elif value != 0:\n",
    "            nutrition_100g[key] = (value * 100) / serving_size\n",
    "        else:\n",
    "            nutrition_100g[key] = 0\n",
    "\n",
    "    return nutrition_100g"
   ]
  },
  {
   "cell_type": "code",
   "execution_count": 99,
   "metadata": {},
   "outputs": [
    {
     "data": {
      "text/plain": [
       "{'energy-kcal_100g': 392.85714285714283,\n",
       " 'saturated-fat_100g': 0,\n",
       " 'trans-fat_100g': 0,\n",
       " 'cholesterol_100g': 0,\n",
       " 'sugars_100g': 32.142857142857146,\n",
       " 'fiber_100g': 7.142857142857143,\n",
       " 'proteins_100g': 7.142857142857143,\n",
       " 'sodium_100g': 0.5714285714285714,\n",
       " 'calcium_100g': 0.35714285714285715,\n",
       " 'iron_100g': 0.8928571428571429,\n",
       " 'other_carbohydrates_100g': 78.57142857142857,\n",
       " 'fat_100g': 5.357142857142857,\n",
       " 'ingredients': 'Whole Grain Oats, Sugar,'}"
      ]
     },
     "execution_count": 99,
     "metadata": {},
     "output_type": "execute_result"
    }
   ],
   "source": [
    "new_input = convert_to_100g(new_nutrition_dict, serving_size=serving_size)\n",
    "new_input"
   ]
  },
  {
   "cell_type": "markdown",
   "metadata": {},
   "source": [
    "### Create a dataframe with the new input [X]"
   ]
  },
  {
   "cell_type": "code",
   "execution_count": 100,
   "metadata": {},
   "outputs": [
    {
     "data": {
      "text/html": [
       "<div>\n",
       "<style scoped>\n",
       "    .dataframe tbody tr th:only-of-type {\n",
       "        vertical-align: middle;\n",
       "    }\n",
       "\n",
       "    .dataframe tbody tr th {\n",
       "        vertical-align: top;\n",
       "    }\n",
       "\n",
       "    .dataframe thead th {\n",
       "        text-align: right;\n",
       "    }\n",
       "</style>\n",
       "<table border=\"1\" class=\"dataframe\">\n",
       "  <thead>\n",
       "    <tr style=\"text-align: right;\">\n",
       "      <th></th>\n",
       "      <th>energy-kcal_100g</th>\n",
       "      <th>saturated-fat_100g</th>\n",
       "      <th>trans-fat_100g</th>\n",
       "      <th>cholesterol_100g</th>\n",
       "      <th>sugars_100g</th>\n",
       "      <th>fiber_100g</th>\n",
       "      <th>proteins_100g</th>\n",
       "      <th>sodium_100g</th>\n",
       "      <th>calcium_100g</th>\n",
       "      <th>iron_100g</th>\n",
       "      <th>other_carbohydrates_100g</th>\n",
       "      <th>fat_100g</th>\n",
       "      <th>ingredients</th>\n",
       "    </tr>\n",
       "  </thead>\n",
       "  <tbody>\n",
       "    <tr>\n",
       "      <th>0</th>\n",
       "      <td>392.857143</td>\n",
       "      <td>0</td>\n",
       "      <td>0</td>\n",
       "      <td>0</td>\n",
       "      <td>32.142857</td>\n",
       "      <td>7.142857</td>\n",
       "      <td>7.142857</td>\n",
       "      <td>0.571429</td>\n",
       "      <td>0.357143</td>\n",
       "      <td>0.892857</td>\n",
       "      <td>78.571429</td>\n",
       "      <td>5.357143</td>\n",
       "      <td>Whole Grain Oats, Sugar,</td>\n",
       "    </tr>\n",
       "  </tbody>\n",
       "</table>\n",
       "</div>"
      ],
      "text/plain": [
       "   energy-kcal_100g  saturated-fat_100g  trans-fat_100g  cholesterol_100g  \\\n",
       "0        392.857143                   0               0                 0   \n",
       "\n",
       "   sugars_100g  fiber_100g  proteins_100g  sodium_100g  calcium_100g  \\\n",
       "0    32.142857    7.142857       7.142857     0.571429      0.357143   \n",
       "\n",
       "   iron_100g  other_carbohydrates_100g  fat_100g               ingredients  \n",
       "0   0.892857                 78.571429  5.357143  Whole Grain Oats, Sugar,  "
      ]
     },
     "execution_count": 100,
     "metadata": {},
     "output_type": "execute_result"
    }
   ],
   "source": [
    "df = pd.DataFrame([new_input])\n",
    "df"
   ]
  },
  {
   "cell_type": "code",
   "execution_count": null,
   "metadata": {},
   "outputs": [],
   "source": []
  }
 ],
 "metadata": {
  "kernelspec": {
   "display_name": "smartfoodscan",
   "language": "python",
   "name": "python3"
  },
  "language_info": {
   "codemirror_mode": {
    "name": "ipython",
    "version": 3
   },
   "file_extension": ".py",
   "mimetype": "text/x-python",
   "name": "python",
   "nbconvert_exporter": "python",
   "pygments_lexer": "ipython3",
   "version": "3.10.6"
  }
 },
 "nbformat": 4,
 "nbformat_minor": 2
}
