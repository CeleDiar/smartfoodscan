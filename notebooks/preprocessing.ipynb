{
 "cells": [
  {
   "cell_type": "markdown",
   "metadata": {},
   "source": [
    "## Imports"
   ]
  },
  {
   "cell_type": "code",
   "execution_count": null,
   "metadata": {},
   "outputs": [],
   "source": [
    "# HTTP\n",
    "import requests\n",
    "\n",
    "# File utilities\n",
    "import gzip\n",
    "import shutil\n",
    "from pathlib import Path"
   ]
  },
  {
   "cell_type": "markdown",
   "metadata": {
    "vscode": {
     "languageId": "plaintext"
    }
   },
   "source": [
    "# Download raw data"
   ]
  },
  {
   "cell_type": "code",
   "execution_count": null,
   "metadata": {},
   "outputs": [
    {
     "name": "stdout",
     "output_type": "stream",
     "text": [
      "Downloading OpenFoodFacts CSV file...\n",
      "Download complete. Extracting...\n",
      "Extraction complete: ../data/raw/openfoodfacts_products.csv\n"
     ]
    }
   ],
   "source": [
    "raw_data_dir = Path(\"../data/raw\")\n",
    "raw_data_dir.mkdir(parents=True, exist_ok=True)\n",
    "\n",
    "if any(raw_data_dir.iterdir()):\n",
    "    pass\n",
    "\n",
    "else:\n",
    "\n",
    "    url = \"https://static.openfoodfacts.org/data/en.openfoodfacts.org.products.csv.gz\"\n",
    "    gz_file_path = raw_data_dir / \"openfoodfacts_products.csv.gz\"\n",
    "    csv_file_path = raw_data_dir / \"openfoodfacts_products.csv\"\n",
    "\n",
    "    print(\"Downloading OpenFoodFacts CSV file...\")\n",
    "    response = requests.get(url, stream=True)\n",
    "    response.raise_for_status()\n",
    "\n",
    "    with open(gz_file_path, \"wb\") as f:\n",
    "        for chunk in response.iter_content(chunk_size=8192):\n",
    "            f.write(chunk)\n",
    "\n",
    "    print(\"Download complete. Extracting...\")\n",
    "\n",
    "    with gzip.open(gz_file_path, \"rb\") as f_in:\n",
    "        with open(csv_file_path, \"wb\") as f_out:\n",
    "            shutil.copyfileobj(f_in, f_out)\n",
    "\n",
    "    gz_file_path.unlink()\n",
    "\n",
    "    print(f\"Extraction complete: {csv_file_path}\")"
   ]
  },
  {
   "cell_type": "code",
   "execution_count": null,
   "metadata": {},
   "outputs": [],
   "source": []
  }
 ],
 "metadata": {
  "kernelspec": {
   "display_name": "smartfoodscan",
   "language": "python",
   "name": "python3"
  },
  "language_info": {
   "codemirror_mode": {
    "name": "ipython",
    "version": 3
   },
   "file_extension": ".py",
   "mimetype": "text/x-python",
   "name": "python",
   "nbconvert_exporter": "python",
   "pygments_lexer": "ipython3",
   "version": "3.10.6"
  }
 },
 "nbformat": 4,
 "nbformat_minor": 2
}
